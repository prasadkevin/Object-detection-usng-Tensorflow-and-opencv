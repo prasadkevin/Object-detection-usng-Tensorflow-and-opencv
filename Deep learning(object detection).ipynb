{
 "cells": [
  {
   "cell_type": "code",
   "execution_count": 1,
   "metadata": {},
   "outputs": [
    {
     "name": "stdout",
     "output_type": "stream",
     "text": [
      "Requirement already satisfied: scipy in ./anaconda3/lib/python3.7/site-packages (1.3.1)\n",
      "Note: you may need to restart the kernel to use updated packages.\n"
     ]
    }
   ],
   "source": [
    "pip install scipy"
   ]
  },
  {
   "cell_type": "code",
   "execution_count": 8,
   "metadata": {},
   "outputs": [],
   "source": [
    "import cv2\n"
   ]
  },
  {
   "cell_type": "code",
   "execution_count": 6,
   "metadata": {},
   "outputs": [
    {
     "name": "stdout",
     "output_type": "stream",
     "text": [
      "Requirement already satisfied: OpenCv-python in ./anaconda3/lib/python3.7/site-packages (4.1.0.25)\r\n",
      "Requirement already satisfied: numpy>=1.14.5 in ./anaconda3/lib/python3.7/site-packages (from OpenCv-python) (1.16.4)\r\n"
     ]
    }
   ],
   "source": [
    "!pip install OpenCv-python\n"
   ]
  },
  {
   "cell_type": "code",
   "execution_count": 9,
   "metadata": {},
   "outputs": [
    {
     "name": "stdout",
     "output_type": "stream",
     "text": [
      "Requirement already satisfied: tensorflow in ./anaconda3/lib/python3.7/site-packages (1.14.0)\n",
      "Requirement already satisfied: gast>=0.2.0 in ./anaconda3/lib/python3.7/site-packages (from tensorflow) (0.2.2)\n",
      "Requirement already satisfied: google-pasta>=0.1.6 in ./anaconda3/lib/python3.7/site-packages (from tensorflow) (0.1.7)\n",
      "Requirement already satisfied: tensorboard<1.15.0,>=1.14.0 in ./anaconda3/lib/python3.7/site-packages (from tensorflow) (1.14.0)\n",
      "Requirement already satisfied: termcolor>=1.1.0 in ./anaconda3/lib/python3.7/site-packages (from tensorflow) (1.1.0)\n",
      "Requirement already satisfied: keras-preprocessing>=1.0.5 in ./anaconda3/lib/python3.7/site-packages (from tensorflow) (1.1.0)\n",
      "Requirement already satisfied: tensorflow-estimator<1.15.0rc0,>=1.14.0rc0 in ./anaconda3/lib/python3.7/site-packages (from tensorflow) (1.14.0)\n",
      "Requirement already satisfied: six>=1.10.0 in ./anaconda3/lib/python3.7/site-packages (from tensorflow) (1.12.0)\n",
      "Requirement already satisfied: wrapt>=1.11.1 in ./anaconda3/lib/python3.7/site-packages (from tensorflow) (1.11.2)\n",
      "Requirement already satisfied: grpcio>=1.8.6 in ./anaconda3/lib/python3.7/site-packages (from tensorflow) (1.23.0)\n",
      "Requirement already satisfied: wheel>=0.26 in ./anaconda3/lib/python3.7/site-packages (from tensorflow) (0.33.4)\n",
      "Requirement already satisfied: astor>=0.6.0 in ./anaconda3/lib/python3.7/site-packages (from tensorflow) (0.8.0)\n",
      "Requirement already satisfied: protobuf>=3.6.1 in ./anaconda3/lib/python3.7/site-packages (from tensorflow) (3.9.1)\n",
      "Requirement already satisfied: keras-applications>=1.0.6 in ./anaconda3/lib/python3.7/site-packages (from tensorflow) (1.0.8)\n",
      "Requirement already satisfied: absl-py>=0.7.0 in ./anaconda3/lib/python3.7/site-packages (from tensorflow) (0.8.0)\n",
      "Requirement already satisfied: numpy<2.0,>=1.14.5 in ./anaconda3/lib/python3.7/site-packages (from tensorflow) (1.16.4)\n",
      "Requirement already satisfied: markdown>=2.6.8 in ./anaconda3/lib/python3.7/site-packages (from tensorboard<1.15.0,>=1.14.0->tensorflow) (3.1.1)\n",
      "Requirement already satisfied: werkzeug>=0.11.15 in ./anaconda3/lib/python3.7/site-packages (from tensorboard<1.15.0,>=1.14.0->tensorflow) (0.15.5)\n",
      "Requirement already satisfied: setuptools>=41.0.0 in ./anaconda3/lib/python3.7/site-packages (from tensorboard<1.15.0,>=1.14.0->tensorflow) (41.0.1)\n",
      "Requirement already satisfied: h5py in ./anaconda3/lib/python3.7/site-packages (from keras-applications>=1.0.6->tensorflow) (2.9.0)\n"
     ]
    }
   ],
   "source": [
    "!pip install tensorflow"
   ]
  },
  {
   "cell_type": "code",
   "execution_count": 10,
   "metadata": {},
   "outputs": [
    {
     "name": "stdout",
     "output_type": "stream",
     "text": [
      "Requirement already satisfied: pillow in ./anaconda3/lib/python3.7/site-packages (6.1.0)\r\n"
     ]
    }
   ],
   "source": [
    "!pip install pillow"
   ]
  },
  {
   "cell_type": "code",
   "execution_count": 11,
   "metadata": {},
   "outputs": [
    {
     "name": "stdout",
     "output_type": "stream",
     "text": [
      "Requirement already satisfied: h5py in ./anaconda3/lib/python3.7/site-packages (2.9.0)\n",
      "Requirement already satisfied: six in ./anaconda3/lib/python3.7/site-packages (from h5py) (1.12.0)\n",
      "Requirement already satisfied: numpy>=1.7 in ./anaconda3/lib/python3.7/site-packages (from h5py) (1.16.4)\n"
     ]
    }
   ],
   "source": [
    "!pip install h5py"
   ]
  },
  {
   "cell_type": "code",
   "execution_count": 12,
   "metadata": {},
   "outputs": [
    {
     "name": "stdout",
     "output_type": "stream",
     "text": [
      "Collecting keras\n",
      "\u001b[?25l  Downloading https://files.pythonhosted.org/packages/f8/ba/2d058dcf1b85b9c212cc58264c98a4a7dd92c989b798823cc5690d062bb2/Keras-2.2.5-py2.py3-none-any.whl (336kB)\n",
      "\u001b[K     |████████████████████████████████| 337kB 59kB/s eta 0:00:012     |█████████████▋                  | 143kB 120kB/s eta 0:00:02\n",
      "\u001b[?25hRequirement already satisfied: numpy>=1.9.1 in ./anaconda3/lib/python3.7/site-packages (from keras) (1.16.4)\n",
      "Requirement already satisfied: keras-applications>=1.0.8 in ./anaconda3/lib/python3.7/site-packages (from keras) (1.0.8)\n",
      "Requirement already satisfied: six>=1.9.0 in ./anaconda3/lib/python3.7/site-packages (from keras) (1.12.0)\n",
      "Requirement already satisfied: scipy>=0.14 in ./anaconda3/lib/python3.7/site-packages (from keras) (1.3.1)\n",
      "Requirement already satisfied: pyyaml in ./anaconda3/lib/python3.7/site-packages (from keras) (5.1.2)\n",
      "Requirement already satisfied: h5py in ./anaconda3/lib/python3.7/site-packages (from keras) (2.9.0)\n",
      "Requirement already satisfied: keras-preprocessing>=1.1.0 in ./anaconda3/lib/python3.7/site-packages (from keras) (1.1.0)\n",
      "Installing collected packages: keras\n",
      "Successfully installed keras-2.2.5\n"
     ]
    }
   ],
   "source": [
    "!pip install keras"
   ]
  },
  {
   "cell_type": "code",
   "execution_count": 14,
   "metadata": {},
   "outputs": [
    {
     "name": "stdout",
     "output_type": "stream",
     "text": [
      "Collecting imageai\n",
      "\u001b[?25l  Downloading https://files.pythonhosted.org/packages/63/30/35d03408e14c4e768f8e4c04c9702205b0946f20f693f2e9cc0be4fe8910/imageai-2.1.4-py3-none-any.whl (183kB)\n",
      "\u001b[K     |████████████████████████████████| 184kB 46kB/s eta 0:00:01\n",
      "\u001b[?25hRequirement already satisfied, skipping upgrade: numpy in ./anaconda3/lib/python3.7/site-packages (from imageai) (1.16.4)\n",
      "Requirement already satisfied, skipping upgrade: pillow in ./anaconda3/lib/python3.7/site-packages (from imageai) (6.1.0)\n",
      "Requirement already satisfied, skipping upgrade: h5py in ./anaconda3/lib/python3.7/site-packages (from imageai) (2.9.0)\n",
      "Requirement already satisfied, skipping upgrade: scipy in ./anaconda3/lib/python3.7/site-packages (from imageai) (1.3.1)\n",
      "Requirement already satisfied, skipping upgrade: matplotlib in ./anaconda3/lib/python3.7/site-packages (from imageai) (3.1.0)\n",
      "Requirement already satisfied, skipping upgrade: six in ./anaconda3/lib/python3.7/site-packages (from h5py->imageai) (1.12.0)\n",
      "Requirement already satisfied, skipping upgrade: cycler>=0.10 in ./anaconda3/lib/python3.7/site-packages (from matplotlib->imageai) (0.10.0)\n",
      "Requirement already satisfied, skipping upgrade: kiwisolver>=1.0.1 in ./anaconda3/lib/python3.7/site-packages (from matplotlib->imageai) (1.1.0)\n",
      "Requirement already satisfied, skipping upgrade: pyparsing!=2.0.4,!=2.1.2,!=2.1.6,>=2.0.1 in ./anaconda3/lib/python3.7/site-packages (from matplotlib->imageai) (2.4.2)\n",
      "Requirement already satisfied, skipping upgrade: python-dateutil>=2.1 in ./anaconda3/lib/python3.7/site-packages (from matplotlib->imageai) (2.8.0)\n",
      "Requirement already satisfied, skipping upgrade: setuptools in ./anaconda3/lib/python3.7/site-packages (from kiwisolver>=1.0.1->matplotlib->imageai) (41.0.1)\n",
      "Installing collected packages: imageai\n",
      "Successfully installed imageai-2.1.4\n"
     ]
    }
   ],
   "source": [
    "!pip3 install imageai --upgrade"
   ]
  },
  {
   "cell_type": "markdown",
   "metadata": {},
   "source": [
    "*****************kevin\n",
    "# deep learning project on object detection using tensorflow"
   ]
  },
  {
   "cell_type": "code",
   "execution_count": 4,
   "metadata": {},
   "outputs": [
    {
     "name": "stdout",
     "output_type": "stream",
     "text": [
      "person  :  73.6272394657135\n",
      "person  :  63.4924590587616\n",
      "person  :  57.425570487976074\n",
      "person  :  50.17272233963013\n",
      "motorcycle  :  73.46475124359131\n",
      "motorcycle  :  62.137430906295776\n",
      "motorcycle  :  57.36228823661804\n",
      "motorcycle  :  74.34282302856445\n",
      "motorcycle  :  77.91213989257812\n",
      "car  :  91.5829062461853\n",
      "person  :  74.08115267753601\n",
      "car  :  82.50492811203003\n",
      "car  :  55.105459690093994\n"
     ]
    }
   ],
   "source": [
    "from imageai.Detection import ObjectDetection\n",
    "import os\n",
    "\n",
    "execution_path = os.getcwd()\n",
    "\n",
    "detector = ObjectDetection()\n",
    "detector.setModelTypeAsRetinaNet()\n",
    "detector.setModelPath( os.path.join(execution_path , \"/home/prasad/Downloads/resnet50_coco_best_v2.0.1.h5\"))\n",
    "detector.loadModel()\n",
    "detections = detector.detectObjectsFromImage(input_image=os.path.join(execution_path , \"//home/prasad/Downloads/trafic 2.jpg\"), output_image_path=os.path.join(execution_path , \"imagenew2.jpg\"))\n",
    "\n",
    "for eachObject in detections:\n",
    "\n",
    "    print(eachObject[\"name\"] , \" : \" , eachObject[\"percentage_probability\"] )"
   ]
  },
  {
   "cell_type": "code",
   "execution_count": null,
   "metadata": {},
   "outputs": [],
   "source": []
  }
 ],
 "metadata": {
  "kernelspec": {
   "display_name": "Python 3",
   "language": "python",
   "name": "python3"
  },
  "language_info": {
   "codemirror_mode": {
    "name": "ipython",
    "version": 3
   },
   "file_extension": ".py",
   "mimetype": "text/x-python",
   "name": "python",
   "nbconvert_exporter": "python",
   "pygments_lexer": "ipython3",
   "version": "3.7.3"
  }
 },
 "nbformat": 4,
 "nbformat_minor": 2
}
